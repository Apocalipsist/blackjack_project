{
 "cells": [
  {
   "cell_type": "markdown",
   "metadata": {},
   "source": [
    "## Python Blackjack\n",
    "For this project you will make a Blackjack game using Python. Click <a href=\"http://www.hitorstand.net/strategy.php\">here</a> to familiarize yourself with the the rules of the game. You won't be implementing every rule \"down to the letter\" with the game, but we will doing a simpler version of the game. This assignment will be given to further test your knowledge on object-oriented programming concepts.\n",
    "\n",
    "### Rules:\n",
    "\n",
    "`1. ` The game will have two players: the Dealer and the Player. The game will start off with a deck of 52 cards. The 52 cards will consist of 4 different suits: Clubs, Diamonds, Hearts and Spades. For each suit, there will be cards numbered 1 through 13. <br>\n",
    "**Note: No wildcards will be used in the program**\n",
    "\n",
    "`2. ` When the game begins, the dealer will shuffle the deck of cards, making them randomized. After the dealer shuffles, it will deal the player 2 cards and will deal itself 2 cards from. The Player should be able to see both of their own cards, but should only be able to see one of the Dealer's cards.\n",
    " \n",
    "`3. ` The objective of the game is for the Player to count their cards after they're dealt. If they're not satisfied with the number, they have the ability to 'Hit'. A hit allows the dealer to deal the Player one additional card. The Player can hit as many times as they'd like as long as they don't 'Bust'. A bust is when the Player is dealt cards that total more than 21.\n",
    "\n",
    "`4. ` If the dealer deals the Player cards equal to 21 on the **first** deal, the Player wins. This is referred to as Blackjack. Blackjack is **NOT** the same as getting cards that equal up to 21 after the first deal. Blackjack can only be attained on the first deal.\n",
    "\n",
    "`5. ` The Player will never see the Dealer's hand until the Player chooses to 'stand'. A Stand is when the player tells the dealer to not deal it anymore cards. Once the player chooses to Stand, the Player and the Dealer will compare their hands. Whoever has the higher number wins. Keep in mind that the Dealer can also bust. "
   ]
  },
  {
   "cell_type": "code",
   "execution_count": null,
   "metadata": {},
   "outputs": [],
   "source": [
    "import random \n"
   ]
  },
  {
   "cell_type": "code",
   "execution_count": null,
   "metadata": {
    "scrolled": true
   },
   "outputs": [],
   "source": [
    "class Game:\n",
    "    suits = [\"Spades\",\"Hearts\",\"Diamonds\",\"Clubs\"]\n",
    "    cards = [2,3,4,5,6,7,8,9,\"Jack\",\"Queen\",\"King\",\"Ace\"]\n",
    "    \n",
    "    def __init__(self, player: str, player_cash = 100, bet=0):\n",
    "        self.player = player\n",
    "        self.cash = player_cash\n",
    "        self.dealer = Dealer\n",
    "        self.bet = bet\n",
    "        \n",
    "    def placed_bet(self):\n",
    "        self.player_cash -= self.bet\n",
    "        \n",
    "    # def shuffle():\n",
    "    #     for suit in suits:\n",
    "    #         for card in cards:\n",
    "    #             deck = (suit,card)\n",
    "    #     return deck\n",
    "    \n",
    "    def hit_me(self, response):\n",
    "        if response.lower() == \"hit me\":\n",
    "            self.deal_card() \n",
    "        \n",
    "            \n",
    "\n",
    "    \n",
    "    def shuffle(self):\n",
    "        for suit in self.suits:\n",
    "            self.deck += (suit + self.cards)\n",
    "        return f\"Dealer has shuffled cards.\"\n",
    "             \n",
    "class Dealer(Game):\n",
    "    dealer_hand = []\n",
    "    \n",
    "    def deal_cards(self):\n",
    "        # if self.dealer >= 17:\n",
    "        #     return \"Dealer will stand.\"\n",
    "        dealt_card = random.choice(self.deck)\n",
    "        self.deck -= dealt_card\n",
    "        return self.dealer_hand.append(dealt_card)\n",
    "    \n",
    "    \n",
    "class Player(Game):\n",
    "    player_hand = []\n",
    "    def __init__(self, player, player_cash=100, bet=''):\n",
    "        super().__init__(player, player_cash, bet)\n",
    "        \n",
    "    \n",
    "        \n",
    "class Hand(Card):\n",
    "\n",
    "    def __init__(self):\n",
    "        if Player.hand >=22:\n",
    "            print(\"You've busted\")\n",
    "            Player.hand.clear()\n",
    "        if Dealer.hand >=22:\n",
    "            print(\"Dealer has busted\")\n",
    "            Dealer.hand.clear()\n",
    "            \n",
    "    def win_or_lose(self):\n",
    "        if self.dealer > self.player:\n",
    "            return \"Dealer's Hand\"\n",
    "        if self.dealer < self.player:\n",
    "            print(f\"{self.player}'s Hand!\")\n",
    "            # pot = self.bet * 2\n",
    "            # self.cash += pot\n",
    "            return f\"{self.player} You won ${pot} your current cash is ${self.cash}.\"\n",
    "        \n",
    "        \n",
    "        \n",
    "        \n",
    "deck = Game(\"Paco\")\n",
    "deck.deal_cards()\n"
   ]
  },
  {
   "cell_type": "code",
   "execution_count": null,
   "metadata": {},
   "outputs": [],
   "source": [
    "def play_blackjack():\n",
    "    name = input(\"Howdy patner! Welcome to The Golden Nugget Cusino! What is your name? \")\n",
    "    Player1 = Player(name)\n",
    "    cards = Hand()\n",
    "    house = Dealer()\n",
    "    while True:\n",
    "        bet = input(f\"{Player1} you currently have much would you like to bet? \")\n",
    "        Player1.placed_bet(int(bet))\n",
    "        house.shuffle()"
   ]
  },
  {
   "cell_type": "code",
   "execution_count": null,
   "metadata": {},
   "outputs": [],
   "source": [
    "play_blackjack()\n"
   ]
  },
  {
   "cell_type": "code",
   "execution_count": null,
   "metadata": {},
   "outputs": [],
   "source": []
  }
 ],
 "metadata": {
  "kernelspec": {
   "display_name": "Python 3.10.7 64-bit",
   "language": "python",
   "name": "python3"
  },
  "language_info": {
   "codemirror_mode": {
    "name": "ipython",
    "version": 3
   },
   "file_extension": ".py",
   "mimetype": "text/x-python",
   "name": "python",
   "nbconvert_exporter": "python",
   "pygments_lexer": "ipython3",
   "version": "3.10.7"
  },
  "vscode": {
   "interpreter": {
    "hash": "89b5318af201cfb04e7d524c1b6673359def82d0442565728f41e5df2809b9b3"
   }
  }
 },
 "nbformat": 4,
 "nbformat_minor": 2
}
